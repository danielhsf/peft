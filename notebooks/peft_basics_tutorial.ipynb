{
  "cells": [
    {
      "cell_type": "markdown",
      "id": "hH4hNM4OhXWO",
      "metadata": {
        "id": "hH4hNM4OhXWO"
      },
      "source": [
        "# Tutorial Básico de PEFT (Parameter-Efficient Fine-Tuning)"
      ]
    },
    {
      "cell_type": "markdown",
      "id": "HUqihQmshXWQ",
      "metadata": {
        "id": "HUqihQmshXWQ"
      },
      "source": [
        "## O que é PEFT?"
      ]
    },
    {
      "cell_type": "markdown",
      "id": "PZISD9mFhXWR",
      "metadata": {
        "id": "PZISD9mFhXWR"
      },
      "source": [
        "Parameter-Efficient Fine-Tuning (PEFT) é um conjunto de técnicas para adaptar modelos de linguagem grandes (LLMs) pré-treinados a novas tarefas de forma eficiente. Em vez de treinar todos os parâmetros do modelo (fine-tuning completo), o PEFT se concentra em ajustar apenas um pequeno número de parâmetros ou adicionar um pequeno conjunto de novos parâmetros. Isso torna o processo de fine-tuning muito mais rápido e menos custoso em termos de recursos computacionais, ao mesmo tempo em que mantém ou até melhora o desempenho do modelo na tarefa alvo."
      ]
    },
    {
      "cell_type": "markdown",
      "id": "ZEWtBuZChXWR",
      "metadata": {
        "id": "ZEWtBuZChXWR"
      },
      "source": [
        "## Por que usar PEFT?"
      ]
    },
    {
      "cell_type": "markdown",
      "id": "vRL9KsrvhXWS",
      "metadata": {
        "id": "vRL9KsrvhXWS"
      },
      "source": [
        "Existem várias vantagens em usar técnicas PEFT:\n",
        "\n",
        "- **Custo computacional reduzido:** Treinar apenas uma pequena fração dos parâmetros requer significativamente menos poder de processamento (GPUs) e tempo.\n",
        "- **Menor uso de memória:** Como menos parâmetros são atualizados, a quantidade de memória RAM e VRAM necessária é drasticamente reduzida.\n",
        "- **Menor espaço de armazenamento para checkpoints:** Os checkpoints do modelo ajustado são muito menores, pois apenas os parâmetros modificados ou adicionados precisam ser salvos.\n",
        "- **Melhor desempenho em tarefas downstream com menos dados:** Em cenários com dados limitados para a tarefa específica, o PEFT pode superar o fine-tuning completo, pois reduz o risco de overfitting ao ajustar menos parâmetros.\n",
        "- **Compartilhamento e implantação mais fáceis:** Modelos menores e mais eficientes são mais fáceis de compartilhar e implantar em produção.\n",
        "- **Preservação do conhecimento do modelo pré-treinado:** Ao congelar a maioria dos pesos do modelo original, o PEFT ajuda a reter o vasto conhecimento aprendido durante a fase de pré-treinamento, evitando o \"esquecimento catastrófico\"."
      ]
    },
    {
      "cell_type": "markdown",
      "id": "Q3wZCiOchXWT",
      "metadata": {
        "id": "Q3wZCiOchXWT"
      },
      "source": [
        "## Visão Geral de Técnicas PEFT Comuns"
      ]
    },
    {
      "cell_type": "markdown",
      "id": "9hzsyxfRhXWT",
      "metadata": {
        "id": "9hzsyxfRhXWT"
      },
      "source": [
        "Existem diversas técnicas PEFT, cada uma com sua abordagem particular para tornar o fine-tuning mais eficiente. Algumas das mais comuns incluem:\n",
        "\n",
        "- **LoRA (Low-Rank Adaptation):** Congela os pesos pré-treinados do modelo e injeta matrizes de \"decomposição de posto baixo\" (low-rank) treináveis em cada camada da arquitetura do Transformer. Isso reduz significativamente o número de parâmetros treináveis.\n",
        "- **Prefix Tuning:** Adiciona um pequeno conjunto de vetores (prefixos) treináveis à entrada de cada camada do Transformer, sem modificar os parâmetros originais do modelo. Esses prefixos são otimizados para guiar o comportamento do modelo na tarefa específica.\n",
        "- **P-Tuning (Prompt Tuning with Prompt Encoder):** Semelhante ao Prefix Tuning, mas utiliza um pequeno codificador de prompt (geralmente uma MLP) para gerar os prefixos contínuos, oferecendo mais flexibilidade.\n",
        "- **Prompt Tuning:** É a forma mais simples, onde apenas alguns tokens de prompt \"virtuais\" ou \"contínuos\" são adicionados à sequência de entrada e otimizados diretamente, mantendo todo o restante do modelo congelado."
      ]
    },
    {
      "cell_type": "markdown",
      "id": "GmIfmtZkhXWU",
      "metadata": {
        "id": "GmIfmtZkhXWU"
      },
      "source": [
        "## Instalação"
      ]
    },
    {
      "cell_type": "markdown",
      "id": "WUYFsxqQhXWU",
      "metadata": {
        "id": "WUYFsxqQhXWU"
      },
      "source": [
        "A biblioteca `peft` pode ser facilmente instalada usando o `pip`. Execute o comando abaixo em sua célula de código para instalá-la:"
      ]
    },
    {
      "cell_type": "code",
      "execution_count": null,
      "id": "beeCc_Y3hXWU",
      "metadata": {
        "colab": {
          "base_uri": "https://localhost:8080/"
        },
        "id": "beeCc_Y3hXWU",
        "outputId": "0d89ccc8-56e9-4171-8aeb-5e78c8ed9d25"
      },
      "outputs": [],
      "source": [
        "!pip install peft\n",
        "!pip install -U datasets huggingface_hub fsspec"
      ]
    },
    {
      "cell_type": "markdown",
      "id": "iefEy_QNhXWV",
      "metadata": {
        "id": "iefEy_QNhXWV"
      },
      "source": [
        "## Demonstração de Uso Básico do PEFT com LoRA"
      ]
    },
    {
      "cell_type": "markdown",
      "id": "Qxf9y1ZchXWV",
      "metadata": {
        "id": "Qxf9y1ZchXWV"
      },
      "source": [
        "### Configuração Inicial e Importações"
      ]
    },
    {
      "cell_type": "code",
      "execution_count": 41,
      "id": "ERmAt5O0hXWV",
      "metadata": {
        "id": "ERmAt5O0hXWV"
      },
      "outputs": [],
      "source": [
        "import torch\n",
        "from transformers import AutoModelForSequenceClassification, AutoTokenizer, Trainer, TrainingArguments, DataCollatorWithPadding\n",
        "from peft import LoraConfig, get_peft_model, TaskType, AutoPeftModelForSequenceClassification\n",
        "from datasets import load_dataset"
      ]
    },
    {
      "cell_type": "markdown",
      "id": "ImD_HJQAhXWV",
      "metadata": {
        "id": "ImD_HJQAhXWV"
      },
      "source": [
        "### Carregando o Modelo Base e o Tokenizador"
      ]
    },
    {
      "cell_type": "markdown",
      "id": "jOMG8hGFhXWV",
      "metadata": {
        "id": "jOMG8hGFhXWV"
      },
      "source": [
        "Vamos escolher um modelo pré-treinado da Hugging Face Hub. Para este tutorial, usaremos o `distilbert-base-uncased` por ser um modelo leve e rápido para treinar. É crucial usar o tokenizador correspondente ao modelo para garantir que a entrada seja processada da maneira que o modelo espera."
      ]
    },
    {
      "cell_type": "code",
      "execution_count": null,
      "id": "C7KtEfC4hXWV",
      "metadata": {
        "colab": {
          "base_uri": "https://localhost:8080/"
        },
        "id": "C7KtEfC4hXWV",
        "outputId": "7da185a5-f5fc-4308-fdab-51c9d85bb446"
      },
      "outputs": [],
      "source": [
        "model_name = \"distilbert-base-uncased\"\n",
        "tokenizer = AutoTokenizer.from_pretrained(model_name)\n",
        "# Carregamos o modelo para classificação de sequência com num_labels=2, pois o dataset IMDB é para classificação binária (positivo/negativo).\n",
        "model = AutoModelForSequenceClassification.from_pretrained(model_name, num_labels=2)"
      ]
    },
    {
      "cell_type": "code",
      "execution_count": null,
      "id": "kum0ghM-ogb-",
      "metadata": {
        "colab": {
          "base_uri": "https://localhost:8080/"
        },
        "id": "kum0ghM-ogb-",
        "outputId": "e42eb425-1b55-4a4a-cda5-6e1790f889cd"
      },
      "outputs": [],
      "source": [
        "print(model)"
      ]
    },
    {
      "cell_type": "markdown",
      "id": "nArmmDYXhXWW",
      "metadata": {
        "id": "nArmmDYXhXWW"
      },
      "source": [
        "`num_labels=2` é definido porque o dataset IMDB, que usaremos a seguir, é para uma tarefa de classificação binária (sentimento positivo ou negativo)."
      ]
    },
    {
      "cell_type": "markdown",
      "id": "a1AklKrlhXWW",
      "metadata": {
        "id": "a1AklKrlhXWW"
      },
      "source": [
        "### Preparando o Conjunto de Dados para Classificação de Texto"
      ]
    },
    {
      "cell_type": "markdown",
      "id": "yrdEOeqohXWW",
      "metadata": {
        "id": "yrdEOeqohXWW"
      },
      "source": [
        "Usaremos o dataset `imdb` da biblioteca `datasets`, que contém avaliações de filmes e seus respectivos sentimentos. Para agilizar o processo no tutorial, carregaremos apenas uma pequena fração (1%) do conjunto de treino."
      ]
    },
    {
      "cell_type": "code",
      "execution_count": null,
      "id": "XrTC3hpUhXWW",
      "metadata": {
        "colab": {
          "base_uri": "https://localhost:8080/",
          "height": 81,
          "referenced_widgets": [
            "7006577638ad481d86000380fb08fc43",
            "1e5d2bfdb76444dbb02221ea1d4f9b64",
            "e1325217cd784adb84f9fe2f7b98b163",
            "585f9d93be224969abc62cd1fa97adba",
            "33a350a75f674b7fa2c747873f747948",
            "e15d1f0d371e49d7ad4694c8d5f07afb",
            "5fbc5b4f7b5a454c9061a617024e67a1",
            "1e603d10a816466daffddaafdffd7227",
            "ab05dc7adb8f4c39ae9f96a0ee640b02",
            "76baa381dc9f466facf63b4b4f60275d",
            "3377f011b8cc40609cd3e839c0b2d43d",
            "140778fcfd7748fb9c753ac953282e4b",
            "60bda788b9234885b004820d7e2b44d7",
            "102f06f310e949e2b09dfec9eb032ba6",
            "43589c8acfd44aa99f621377a0c97761",
            "2274f0519b884498b28c56348ed25e1e",
            "5bb4a350f42c410eb0162847c6f3883b",
            "489deab5d516454f8f0548fb92b9a18c",
            "9c13bc2f55054bc0a0d114511143b167",
            "8f82451a97e14cfcbd37b93e452fb9bc",
            "b3b5c6444ebe47e68f206104f86809b4",
            "894499845f2a414ba6c8dc811e319914"
          ]
        },
        "id": "XrTC3hpUhXWW",
        "outputId": "01a737a1-785c-44d1-fff9-46dfcaf2e9b2"
      },
      "outputs": [],
      "source": [
        "# Carrega uma pequena fração do dataset IMDB (1% do treino)\n",
        "dataset = load_dataset('imdb',split='train')\n",
        "\n",
        "# Divide o dataset carregado em treino (80%) e teste (20%)\n",
        "dataset = dataset.train_test_split(test_size=0.2)\n",
        "\n",
        "# Função para tokenizar os textos\n",
        "def tokenize_function(examples):\n",
        "    return tokenizer(examples[\"text\"], padding=\"max_length\", truncation=True)\n",
        "\n",
        "# Aplica a tokenização ao dataset\n",
        "tokenized_datasets = dataset.map(tokenize_function, batched=True)\n",
        "\n",
        "# Remove a coluna de texto original, pois não é mais necessária após a tokenização\n",
        "tokenized_datasets = tokenized_datasets.remove_columns([\"text\"])\n",
        "\n",
        "# Renomeia a coluna 'label' para 'labels', que é o nome esperado pelo modelo/Trainer\n",
        "tokenized_datasets = tokenized_datasets.rename_column(\"label\", \"labels\")\n",
        "\n",
        "# Define o formato do dataset para tensores PyTorch\n",
        "tokenized_datasets.set_format(\"torch\")\n",
        "\n",
        "# Cria um DataCollator para preencher dinamicamente as sequências no batch ao comprimento máximo do batch\n",
        "data_collator = DataCollatorWithPadding(tokenizer=tokenizer)"
      ]
    },
    {
      "cell_type": "markdown",
      "id": "l4hhimQHhXWW",
      "metadata": {
        "id": "l4hhimQHhXWW"
      },
      "source": [
        "**Passos da preparação do dataset:**\n",
        "1. `load_dataset(\"imdb\", split=\"train[:1%]\")`: Carrega os primeiros 1% dos dados de treino do IMDB.\n",
        "2. `dataset.train_test_split(test_size=0.2)`: Divide essa pequena porção em conjuntos de treino e teste.\n",
        "3. `tokenize_function`: Define uma função para tokenizar as amostras de texto. `padding=\"max_length\"` e `truncation=True` garantem que todas as sequências tenham o mesmo comprimento.\n",
        "4. `dataset.map(tokenize_function, batched=True)`: Aplica a tokenização a todas as amostras de forma eficiente.\n",
        "5. `remove_columns([\"text\"])`: Remove a coluna de texto original, pois agora temos os `input_ids` e `attention_mask`.\n",
        "6. `rename_column(\"label\", \"labels\")`: Renomeia a coluna de rótulos para o nome esperado pelo `Trainer`.\n",
        "7. `set_format(\"torch\")`: Converte o dataset para o formato de tensores PyTorch.\n",
        "8. `DataCollatorWithPadding`: Cria um objeto que irá agrupar as amostras em lotes (batches) e aplicar padding dinâmico a cada lote durante o treinamento."
      ]
    },
    {
      "cell_type": "markdown",
      "id": "WymnIKlyhXWW",
      "metadata": {
        "id": "WymnIKlyhXWW"
      },
      "source": [
        "### Definindo a Configuração PEFT (LoRA)"
      ]
    },
    {
      "cell_type": "markdown",
      "id": "yDNUpHdchXWX",
      "metadata": {
        "id": "yDNUpHdchXWX"
      },
      "source": [
        "Agora, vamos configurar o LoRA. A `LoraConfig` da biblioteca `peft` nos permite especificar como o LoRA deve ser aplicado. Os parâmetros importantes são:\n",
        "- `task_type`: O tipo de tarefa para a qual o modelo está sendo adaptado (ex: `SEQ_CLS` para classificação de sequência).\n",
        "- `r`: A dimensão do rank (posto) das matrizes de atualização LoRA. Um valor menor de `r` significa menos parâmetros treináveis.\n",
        "- `lora_alpha`: O fator de escala para as matrizes LoRA. É comum definir `lora_alpha` como o dobro de `r`.\n",
        "- `lora_dropout`: A probabilidade de dropout nas camadas LoRA.\n",
        "- `base_model_name_or_path`: O nome ou caminho do modelo base, necessário para algumas funcionalidades como salvar o adaptador."
      ]
    },
    {
      "cell_type": "code",
      "execution_count": 61,
      "id": "t8IcdB--hXWX",
      "metadata": {
        "id": "t8IcdB--hXWX"
      },
      "outputs": [],
      "source": [
        "peft_config = LoraConfig(\n",
        "    task_type=TaskType.SEQ_CLS,\n",
        "    r=8,\n",
        "    lora_alpha=16,\n",
        "    lora_dropout=0.1,\n",
        "    base_model_name_or_path=model_name,# Adicionado para melhor compatibilidade ao salvar\n",
        "    target_modules=[\n",
        "        \"q_lin\",\n",
        "        \"k_lin\"]\n",
        ")\n",
        "\n",
        "# TaskType.SEQ_CLS é usado pois estamos fazendo classificação de sequência (sentimento de texto)."
      ]
    },
    {
      "cell_type": "markdown",
      "id": "4oXCV_nkhXWX",
      "metadata": {
        "id": "4oXCV_nkhXWX"
      },
      "source": [
        "`TaskType.SEQ_CLS` indica que estamos realizando uma tarefa de classificação de sequência (neste caso, análise de sentimento)."
      ]
    },
    {
      "cell_type": "markdown",
      "id": "N4lbS92OhXWX",
      "metadata": {
        "id": "N4lbS92OhXWX"
      },
      "source": [
        "### Envolvendo o Modelo Base com PEFT"
      ]
    },
    {
      "cell_type": "code",
      "execution_count": null,
      "id": "hRHZp7_LhXWX",
      "metadata": {
        "colab": {
          "base_uri": "https://localhost:8080/"
        },
        "id": "hRHZp7_LhXWX",
        "outputId": "93b7561a-d254-4ef2-f3ec-88fe786503c7"
      },
      "outputs": [],
      "source": [
        "peft_model = get_peft_model(model, peft_config)\n",
        "# Agora `peft_model` é o modelo que será treinado. Apenas os parâmetros LoRA serão atualizados."
      ]
    },
    {
      "cell_type": "markdown",
      "id": "iTT-SKomhXWX",
      "metadata": {
        "id": "iTT-SKomhXWX"
      },
      "source": [
        "### Verificando a Eficiência: Parâmetros Treináveis"
      ]
    },
    {
      "cell_type": "code",
      "execution_count": null,
      "id": "nYp3hqd8hXWX",
      "metadata": {
        "colab": {
          "base_uri": "https://localhost:8080/"
        },
        "id": "nYp3hqd8hXWX",
        "outputId": "83e233cb-cf31-4c3c-efe1-66303a72f9cd"
      },
      "outputs": [],
      "source": [
        "peft_model.print_trainable_parameters()"
      ]
    },
    {
      "cell_type": "markdown",
      "id": "vf7cloYdhXWY",
      "metadata": {
        "id": "vf7cloYdhXWY"
      },
      "source": [
        "Observe a saída do comando acima. Ela mostrará o número total de parâmetros no modelo e quantos deles são treináveis. Com LoRA, o número de parâmetros treináveis é uma pequena fração do total, o que demonstra a eficiência da técnica."
      ]
    },
    {
      "cell_type": "markdown",
      "id": "2uoWcuvrhXWY",
      "metadata": {
        "id": "2uoWcuvrhXWY"
      },
      "source": [
        "### Treinando o Modelo PEFT"
      ]
    },
    {
      "cell_type": "markdown",
      "id": "8Zf5742AhXWY",
      "metadata": {
        "id": "8Zf5742AhXWY"
      },
      "source": [
        "Para o treinamento, usamos a classe `Trainer` da biblioteca `transformers`. Precisamos definir `TrainingArguments` que especificam vários hiperparâmetros e configurações para o ciclo de treinamento, como taxa de aprendizado, número de épocas, tamanho do batch, etc."
      ]
    },
    {
      "cell_type": "code",
      "execution_count": null,
      "id": "0NNg-8HphXWY",
      "metadata": {
        "colab": {
          "base_uri": "https://localhost:8080/",
          "height": 245
        },
        "id": "0NNg-8HphXWY",
        "outputId": "731024eb-9cf5-4b61-8415-47cd972dea1d"
      },
      "outputs": [],
      "source": [
        "training_args = TrainingArguments(\n",
        "    output_dir=\"peft_basics_output\",          # Diretório para salvar os checkpoints e logs\n",
        "    learning_rate=2e-3,                     # Taxa de aprendizado (geralmente maior para PEFT)\n",
        "    per_device_train_batch_size=16,         # Tamanho do batch de treino por dispositivo\n",
        "    per_device_eval_batch_size=16,          # Tamanho do batch de avaliação por dispositivo\n",
        "    num_train_epochs=2,                     # Número de épocas de treinamento (pequeno para o tutorial)\n",
        "    weight_decay=0.01,                      # Força da regularização L2\n",
        "    eval_strategy=\"epoch\",                  # Avaliar ao final de cada época\n",
        "    save_strategy=\"epoch\",                  # Salvar o modelo ao final de cada época\n",
        "    load_best_model_at_end=True,            # Carregar o melhor modelo ao final do treino\n",
        "    report_to=\"none\"                        # Sem relatórios de treinamento\n",
        ")\n",
        "\n",
        "trainer = Trainer(\n",
        "    model=peft_model,                         # O modelo PEFT para treinar\n",
        "    args=training_args,                       # Argumentos de treinamento\n",
        "    train_dataset=tokenized_datasets[\"train\"], # Dataset de treino\n",
        "    eval_dataset=tokenized_datasets[\"test\"],  # Dataset de avaliação/teste\n",
        "    tokenizer=tokenizer,                      # Tokenizador (para padding e outras funções)\n",
        "    data_collator=data_collator,              # Data collator para criar os batches\n",
        ")\n",
        "\n",
        "# Inicia o treinamento\n",
        "trainer.train()\n",
        "\n",
        "# Este processo pode levar alguns minutos, dependendo da sua máquina e da fração do dataset."
      ]
    },
    {
      "cell_type": "markdown",
      "id": "XqXUVdmshXWY",
      "metadata": {
        "id": "XqXUVdmshXWY"
      },
      "source": [
        "O treinamento pode levar alguns minutos para ser concluído. A taxa de aprendizado (`learning_rate`) para PEFT costuma ser mais alta do que para o fine-tuning completo."
      ]
    },
    {
      "cell_type": "markdown",
      "id": "qlXaupeIhXWZ",
      "metadata": {
        "id": "qlXaupeIhXWZ"
      },
      "source": [
        "### Inferência com o Modelo PEFT Treinado"
      ]
    },
    {
      "cell_type": "code",
      "execution_count": null,
      "id": "oTr60UGshXWZ",
      "metadata": {
        "colab": {
          "base_uri": "https://localhost:8080/"
        },
        "id": "oTr60UGshXWZ",
        "outputId": "83691936-5362-4038-e88b-fa9642c5e457"
      },
      "outputs": [],
      "source": [
        "text = \"This is a fantastic movie!\"\n",
        "inputs = tokenizer(text, return_tensors=\"pt\").to(peft_model.device)\n",
        "\n",
        "# Garante que os inputs estão no mesmo device que o modelo (CPU ou GPU)\n",
        "# Se você estiver usando GPU, o peft_model.device será algo como 'cuda:0'\n",
        "#inputs = {k: v.to(peft_model.device) for k, v in inputs.items()}\n",
        "\n",
        "with torch.no_grad(): # Desativa o cálculo de gradientes para inferência\n",
        "    logits = peft_model(**inputs).logits\n",
        "\n",
        "predictions = torch.argmax(logits, dim=-1)\n",
        "\n",
        "print(f\"Input: {text}\")\n",
        "print(f\"Predicted label: {'positive' if predictions.item() == 1 else 'negative'}\")"
      ]
    },
    {
      "cell_type": "markdown",
      "id": "KwXa5MiahXWZ",
      "metadata": {
        "id": "KwXa5MiahXWZ"
      },
      "source": [
        "**Explicação do código de inferência:**\n",
        "1. Tokenizamos um texto de exemplo.\n",
        "2. Movemos os tensores de entrada para o mesmo dispositivo onde o `peft_model` está (CPU ou GPU). Isso é importante para evitar erros de dispositivo.\n",
        "3. Usamos `torch.no_grad()` para desabilitar o cálculo de gradientes, pois não estamos treinando, apenas fazendo uma predição. Isso economiza memória e acelera o processo.\n",
        "4. Passamos os inputs para o `peft_model` e obtemos os `logits` (saídas brutas antes da função de ativação final).\n",
        "5. `torch.argmax` encontra o índice da classe com a maior probabilidade (0 para negativo, 1 para positivo no caso do IMDB).\n",
        "6. Imprimimos o resultado."
      ]
    },
    {
      "cell_type": "markdown",
      "id": "6RzNgrL2hXWZ",
      "metadata": {
        "id": "6RzNgrL2hXWZ"
      },
      "source": [
        "### Salvando e Carregando Adaptadores PEFT"
      ]
    },
    {
      "cell_type": "markdown",
      "id": "7Kp1AXjOhXWZ",
      "metadata": {
        "id": "7Kp1AXjOhXWZ"
      },
      "source": [
        "Uma grande vantagem do PEFT é que você só precisa salvar os pesos do adaptador treinado, que são muito pequenos em comparação com o modelo completo. A biblioteca `peft` facilita isso."
      ]
    },
    {
      "cell_type": "code",
      "execution_count": null,
      "id": "lcdUZn0rhXWf",
      "metadata": {
        "colab": {
          "base_uri": "https://localhost:8080/"
        },
        "id": "lcdUZn0rhXWf",
        "outputId": "94abe801-0a42-4956-d047-69b27989d249"
      },
      "outputs": [],
      "source": [
        "peft_model_path = \"./peft_adapter_imdb\"\n",
        "\n",
        "# Salva apenas os pesos do adaptador LoRA treinados\n",
        "peft_model.save_pretrained(peft_model_path)\n",
        "\n",
        "print(f\"Adaptador PEFT salvo em {peft_model_path}\")\n",
        "\n",
        "# Para carregar o adaptador, você pode usar AutoPeftModelForSequenceClassification\n",
        "# Isso carregará automaticamente o modelo base correto (especificado na LoraConfig) e aplicará o adaptador.\n",
        "\n",
        "loaded_model = AutoPeftModelForSequenceClassification.from_pretrained(peft_model_path)\n",
        "\n",
        "# Vamos testar o modelo carregado\n",
        "test_text_loaded = \"This movie was absolutely terrible and boring.\"\n",
        "inputs_loaded = tokenizer(test_text_loaded, return_tensors=\"pt\")\n",
        "\n",
        "# Garante que os inputs estão no mesmo device que o modelo carregado\n",
        "inputs_loaded = {k: v.to(loaded_model.device) for k, v in inputs_loaded.items()}\n",
        "\n",
        "with torch.no_grad():\n",
        "    logits_loaded = loaded_model(**inputs_loaded).logits\n",
        "\n",
        "predictions_loaded = torch.argmax(logits_loaded, dim=-1)\n",
        "\n",
        "print(f\"Input: {test_text_loaded}\")\n",
        "print(f\"Predicted label (loaded model): {'positive' if predictions_loaded.item() == 1 else 'negative'}\")"
      ]
    },
    {
      "cell_type": "markdown",
      "id": "_xVahXw2hXWf",
      "metadata": {
        "id": "_xVahXw2hXWf"
      },
      "source": [
        "Ao usar `AutoPeftModelForSequenceClassification.from_pretrained(peft_model_path)`, a biblioteca `peft` carrega automaticamente o modelo base especificado na configuração do adaptador (que foi salva junto com os pesos do adaptador) e, em seguida, aplica os pesos do adaptador LoRA a ele. Isso simplifica o processo de implantação e compartilhamento de modelos ajustados com PEFT."
      ]
    },
    {
      "cell_type": "markdown",
      "id": "-sAAjzTshXWf",
      "metadata": {
        "id": "-sAAjzTshXWf"
      },
      "source": [
        "## Outras Técnicas PEFT"
      ]
    },
    {
      "cell_type": "markdown",
      "id": "YG__MGsUhXWf",
      "metadata": {
        "id": "YG__MGsUhXWf"
      },
      "source": [
        "Além do LoRA, a biblioteca `peft` suporta várias outras técnicas eficientes de fine-tuning. A abordagem geral para usá-las é semelhante: você define um objeto de configuração específico da técnica (por exemplo, `PrefixTuningConfig`, `PromptEncoderConfig` ou `PromptTuningConfig`) e depois usa a função `get_peft_model` para aplicar essa configuração ao seu modelo base. Os parâmetros específicos dentro dessas configurações irão variar de acordo com a técnica.\n",
        "\n",
        "Aqui estão algumas outras técnicas populares:\n",
        "\n",
        "- **Prefix Tuning:** Esta técnica mantém os parâmetros do modelo original congelados e adiciona um pequeno conjunto de vetores (prefixos) treináveis à entrada de cada camada do Transformer. Esses prefixos são otimizados para guiar o comportamento do modelo na tarefa específica. Diferentemente do LoRA, que modifica as camadas existentes, o Prefix Tuning adiciona novos parâmetros na forma de prefixos.\n",
        "\n",
        "- **P-Tuning (Prompt Tuning with Prompt Encoder):** Similar ao Prefix Tuning, o P-Tuning também adiciona embeddings treináveis (prompts virtuais ou contínuos) à sequência de entrada. No entanto, em vez de adicionar prefixos fixos a cada camada, o P-Tuning (especialmente a versão com codificador, P-Tuning v2) pode usar um pequeno codificador de prompt (geralmente uma MLP - Multi-Layer Perceptron) para gerar esses embeddings de prompt de forma mais dinâmica e, potencialmente, aplicá-los em diferentes locais do modelo.\n",
        "\n",
        "- **Prompt Tuning:** Esta é uma forma mais simples e leve de P-Tuning. Ela adiciona um pequeno número de tokens de prompt \"virtuais\" ou \"suaves\" (soft prompts) treináveis diretamente aos embeddings de entrada da sequência. Apenas esses embeddings de prompt são otimizados, enquanto todo o resto do modelo pré-treinado permanece congelado. É uma das formas mais eficientes em termos de parâmetros, pois treina ainda menos parâmetros que o LoRA ou Prefix Tuning.\n",
        "\n",
        "A escolha da técnica PEFT pode depender da tarefa específica, do modelo base e dos recursos computacionais disponíveis. Cada uma oferece um trade-off diferente entre eficiência de parâmetros, desempenho e complexidade de implementação."
      ]
    },
    {
      "cell_type": "markdown",
      "id": "5PXooLlEhXWg",
      "metadata": {
        "id": "5PXooLlEhXWg"
      },
      "source": [
        "## Conclusão e Próximos Passos"
      ]
    },
    {
      "cell_type": "markdown",
      "id": "TffrE2xahXWg",
      "metadata": {
        "id": "TffrE2xahXWg"
      },
      "source": [
        "Neste tutorial, exploramos os conceitos básicos do Parameter-Efficient Fine-Tuning (PEFT) e demonstramos como usar a técnica LoRA para adaptar um modelo pré-treinado a uma tarefa de classificação de texto com um custo computacional significativamente reduzido.\n",
        "\n",
        "**Principais Vantagens do PEFT Recapituladas:**\n",
        "- **Eficiência de Parâmetros:** Apenas uma pequena fração dos parâmetros do modelo é treinada, resultando em checkpoints muito menores.\n",
        "- **Redução de Custos Computacionais:** Menos parâmetros para treinar significam menor tempo de treinamento e menor necessidade de GPUs potentes.\n",
        "- **Menor Uso de Memória:** Tanto para treinamento quanto para inferência.\n",
        "- **Preservação do Conhecimento:** Evita o esquecimento catastrófico ao manter a maioria dos pesos do modelo original congelados.\n",
        "- **Versatilidade:** Aplicável a uma ampla gama de modelos e tarefas.\n",
        "\n",
        "**Próximos Passos:**\n",
        "\n",
        "1.  **Experimente!** A melhor maneira de aprender é praticando. Tente aplicar LoRA ou outras técnicas PEFT a diferentes modelos e datasets. Ajuste hiperparâmetros como `r`, `lora_alpha`, `learning_rate`, etc., para observar o impacto no desempenho e na eficiência.\n",
        "2.  **Explore Outras Técnicas PEFT:** Investigue Prefix Tuning, P-Tuning, e Prompt Tuning usando a biblioteca `peft`. Cada uma tem suas nuances e pode ser mais adequada para determinados cenários.\n",
        "3.  **Aprofunde-se na Documentação:** Consulte os recursos oficiais para entender melhor as capacidades avançadas e as últimas atualizações.\n",
        "\n",
        "**Recursos Adicionais:**\n",
        "\n",
        "- **Documentação Oficial do PEFT (Hugging Face):** [`https://huggingface.co/docs/peft`](https://huggingface.co/docs/peft)\n",
        "- **Repositório GitHub do PEFT:** [`https://github.com/huggingface/peft`](https://github.com/huggingface/peft)\n",
        "- **Blog da Hugging Face (procure por posts sobre PEFT):** [`https://huggingface.co/blog`](https://huggingface.co/blog)\n",
        "- **Tarefas de exemplo no repositório PEFT:** O repositório GitHub do PEFT geralmente contém scripts de exemplo para diferentes tarefas e modelos.\n",
        "\n",
        "PEFT está democratizando o acesso ao fine-tuning de modelos grandes, permitindo que mais pesquisadores e desenvolvedores adaptem esses poderosos modelos às suas necessidades específicas. Continue explorando e construindo!"
      ]
    }
  ],
  "metadata": {
    "accelerator": "GPU",
    "colab": {
      "gpuType": "A100",
      "machine_shape": "hm",
      "provenance": []
    },
    "kernelspec": {
      "display_name": "Python 3",
      "name": "python3"
    },
    "language_info": {
      "codemirror_mode": {
        "name": "ipython",
        "version": 3
      },
      "file_extension": ".py",
      "mimetype": "text/x-python",
      "name": "python",
      "nbconvert_exporter": "python",
      "pygments_lexer": "ipython3",
      "version": "3.10.12"
    },
    "widgets": {
      "application/vnd.jupyter.widget-state+json": {
        "102f06f310e949e2b09dfec9eb032ba6": {
          "model_module": "@jupyter-widgets/controls",
          "model_module_version": "1.5.0",
          "model_name": "FloatProgressModel",
          "state": {
            "_dom_classes": [],
            "_model_module": "@jupyter-widgets/controls",
            "_model_module_version": "1.5.0",
            "_model_name": "FloatProgressModel",
            "_view_count": null,
            "_view_module": "@jupyter-widgets/controls",
            "_view_module_version": "1.5.0",
            "_view_name": "ProgressView",
            "bar_style": "success",
            "description": "",
            "description_tooltip": null,
            "layout": "IPY_MODEL_9c13bc2f55054bc0a0d114511143b167",
            "max": 5000,
            "min": 0,
            "orientation": "horizontal",
            "style": "IPY_MODEL_8f82451a97e14cfcbd37b93e452fb9bc",
            "value": 5000
          }
        },
        "140778fcfd7748fb9c753ac953282e4b": {
          "model_module": "@jupyter-widgets/controls",
          "model_module_version": "1.5.0",
          "model_name": "HBoxModel",
          "state": {
            "_dom_classes": [],
            "_model_module": "@jupyter-widgets/controls",
            "_model_module_version": "1.5.0",
            "_model_name": "HBoxModel",
            "_view_count": null,
            "_view_module": "@jupyter-widgets/controls",
            "_view_module_version": "1.5.0",
            "_view_name": "HBoxView",
            "box_style": "",
            "children": [
              "IPY_MODEL_60bda788b9234885b004820d7e2b44d7",
              "IPY_MODEL_102f06f310e949e2b09dfec9eb032ba6",
              "IPY_MODEL_43589c8acfd44aa99f621377a0c97761"
            ],
            "layout": "IPY_MODEL_2274f0519b884498b28c56348ed25e1e"
          }
        },
        "1e5d2bfdb76444dbb02221ea1d4f9b64": {
          "model_module": "@jupyter-widgets/controls",
          "model_module_version": "1.5.0",
          "model_name": "HTMLModel",
          "state": {
            "_dom_classes": [],
            "_model_module": "@jupyter-widgets/controls",
            "_model_module_version": "1.5.0",
            "_model_name": "HTMLModel",
            "_view_count": null,
            "_view_module": "@jupyter-widgets/controls",
            "_view_module_version": "1.5.0",
            "_view_name": "HTMLView",
            "description": "",
            "description_tooltip": null,
            "layout": "IPY_MODEL_e15d1f0d371e49d7ad4694c8d5f07afb",
            "placeholder": "​",
            "style": "IPY_MODEL_5fbc5b4f7b5a454c9061a617024e67a1",
            "value": "Map: 100%"
          }
        },
        "1e603d10a816466daffddaafdffd7227": {
          "model_module": "@jupyter-widgets/base",
          "model_module_version": "1.2.0",
          "model_name": "LayoutModel",
          "state": {
            "_model_module": "@jupyter-widgets/base",
            "_model_module_version": "1.2.0",
            "_model_name": "LayoutModel",
            "_view_count": null,
            "_view_module": "@jupyter-widgets/base",
            "_view_module_version": "1.2.0",
            "_view_name": "LayoutView",
            "align_content": null,
            "align_items": null,
            "align_self": null,
            "border": null,
            "bottom": null,
            "display": null,
            "flex": null,
            "flex_flow": null,
            "grid_area": null,
            "grid_auto_columns": null,
            "grid_auto_flow": null,
            "grid_auto_rows": null,
            "grid_column": null,
            "grid_gap": null,
            "grid_row": null,
            "grid_template_areas": null,
            "grid_template_columns": null,
            "grid_template_rows": null,
            "height": null,
            "justify_content": null,
            "justify_items": null,
            "left": null,
            "margin": null,
            "max_height": null,
            "max_width": null,
            "min_height": null,
            "min_width": null,
            "object_fit": null,
            "object_position": null,
            "order": null,
            "overflow": null,
            "overflow_x": null,
            "overflow_y": null,
            "padding": null,
            "right": null,
            "top": null,
            "visibility": null,
            "width": null
          }
        },
        "2274f0519b884498b28c56348ed25e1e": {
          "model_module": "@jupyter-widgets/base",
          "model_module_version": "1.2.0",
          "model_name": "LayoutModel",
          "state": {
            "_model_module": "@jupyter-widgets/base",
            "_model_module_version": "1.2.0",
            "_model_name": "LayoutModel",
            "_view_count": null,
            "_view_module": "@jupyter-widgets/base",
            "_view_module_version": "1.2.0",
            "_view_name": "LayoutView",
            "align_content": null,
            "align_items": null,
            "align_self": null,
            "border": null,
            "bottom": null,
            "display": null,
            "flex": null,
            "flex_flow": null,
            "grid_area": null,
            "grid_auto_columns": null,
            "grid_auto_flow": null,
            "grid_auto_rows": null,
            "grid_column": null,
            "grid_gap": null,
            "grid_row": null,
            "grid_template_areas": null,
            "grid_template_columns": null,
            "grid_template_rows": null,
            "height": null,
            "justify_content": null,
            "justify_items": null,
            "left": null,
            "margin": null,
            "max_height": null,
            "max_width": null,
            "min_height": null,
            "min_width": null,
            "object_fit": null,
            "object_position": null,
            "order": null,
            "overflow": null,
            "overflow_x": null,
            "overflow_y": null,
            "padding": null,
            "right": null,
            "top": null,
            "visibility": null,
            "width": null
          }
        },
        "3377f011b8cc40609cd3e839c0b2d43d": {
          "model_module": "@jupyter-widgets/controls",
          "model_module_version": "1.5.0",
          "model_name": "DescriptionStyleModel",
          "state": {
            "_model_module": "@jupyter-widgets/controls",
            "_model_module_version": "1.5.0",
            "_model_name": "DescriptionStyleModel",
            "_view_count": null,
            "_view_module": "@jupyter-widgets/base",
            "_view_module_version": "1.2.0",
            "_view_name": "StyleView",
            "description_width": ""
          }
        },
        "33a350a75f674b7fa2c747873f747948": {
          "model_module": "@jupyter-widgets/base",
          "model_module_version": "1.2.0",
          "model_name": "LayoutModel",
          "state": {
            "_model_module": "@jupyter-widgets/base",
            "_model_module_version": "1.2.0",
            "_model_name": "LayoutModel",
            "_view_count": null,
            "_view_module": "@jupyter-widgets/base",
            "_view_module_version": "1.2.0",
            "_view_name": "LayoutView",
            "align_content": null,
            "align_items": null,
            "align_self": null,
            "border": null,
            "bottom": null,
            "display": null,
            "flex": null,
            "flex_flow": null,
            "grid_area": null,
            "grid_auto_columns": null,
            "grid_auto_flow": null,
            "grid_auto_rows": null,
            "grid_column": null,
            "grid_gap": null,
            "grid_row": null,
            "grid_template_areas": null,
            "grid_template_columns": null,
            "grid_template_rows": null,
            "height": null,
            "justify_content": null,
            "justify_items": null,
            "left": null,
            "margin": null,
            "max_height": null,
            "max_width": null,
            "min_height": null,
            "min_width": null,
            "object_fit": null,
            "object_position": null,
            "order": null,
            "overflow": null,
            "overflow_x": null,
            "overflow_y": null,
            "padding": null,
            "right": null,
            "top": null,
            "visibility": null,
            "width": null
          }
        },
        "43589c8acfd44aa99f621377a0c97761": {
          "model_module": "@jupyter-widgets/controls",
          "model_module_version": "1.5.0",
          "model_name": "HTMLModel",
          "state": {
            "_dom_classes": [],
            "_model_module": "@jupyter-widgets/controls",
            "_model_module_version": "1.5.0",
            "_model_name": "HTMLModel",
            "_view_count": null,
            "_view_module": "@jupyter-widgets/controls",
            "_view_module_version": "1.5.0",
            "_view_name": "HTMLView",
            "description": "",
            "description_tooltip": null,
            "layout": "IPY_MODEL_b3b5c6444ebe47e68f206104f86809b4",
            "placeholder": "​",
            "style": "IPY_MODEL_894499845f2a414ba6c8dc811e319914",
            "value": " 5000/5000 [00:02&lt;00:00, 2063.19 examples/s]"
          }
        },
        "489deab5d516454f8f0548fb92b9a18c": {
          "model_module": "@jupyter-widgets/controls",
          "model_module_version": "1.5.0",
          "model_name": "DescriptionStyleModel",
          "state": {
            "_model_module": "@jupyter-widgets/controls",
            "_model_module_version": "1.5.0",
            "_model_name": "DescriptionStyleModel",
            "_view_count": null,
            "_view_module": "@jupyter-widgets/base",
            "_view_module_version": "1.2.0",
            "_view_name": "StyleView",
            "description_width": ""
          }
        },
        "585f9d93be224969abc62cd1fa97adba": {
          "model_module": "@jupyter-widgets/controls",
          "model_module_version": "1.5.0",
          "model_name": "HTMLModel",
          "state": {
            "_dom_classes": [],
            "_model_module": "@jupyter-widgets/controls",
            "_model_module_version": "1.5.0",
            "_model_name": "HTMLModel",
            "_view_count": null,
            "_view_module": "@jupyter-widgets/controls",
            "_view_module_version": "1.5.0",
            "_view_name": "HTMLView",
            "description": "",
            "description_tooltip": null,
            "layout": "IPY_MODEL_76baa381dc9f466facf63b4b4f60275d",
            "placeholder": "​",
            "style": "IPY_MODEL_3377f011b8cc40609cd3e839c0b2d43d",
            "value": " 20000/20000 [00:06&lt;00:00, 2908.63 examples/s]"
          }
        },
        "5bb4a350f42c410eb0162847c6f3883b": {
          "model_module": "@jupyter-widgets/base",
          "model_module_version": "1.2.0",
          "model_name": "LayoutModel",
          "state": {
            "_model_module": "@jupyter-widgets/base",
            "_model_module_version": "1.2.0",
            "_model_name": "LayoutModel",
            "_view_count": null,
            "_view_module": "@jupyter-widgets/base",
            "_view_module_version": "1.2.0",
            "_view_name": "LayoutView",
            "align_content": null,
            "align_items": null,
            "align_self": null,
            "border": null,
            "bottom": null,
            "display": null,
            "flex": null,
            "flex_flow": null,
            "grid_area": null,
            "grid_auto_columns": null,
            "grid_auto_flow": null,
            "grid_auto_rows": null,
            "grid_column": null,
            "grid_gap": null,
            "grid_row": null,
            "grid_template_areas": null,
            "grid_template_columns": null,
            "grid_template_rows": null,
            "height": null,
            "justify_content": null,
            "justify_items": null,
            "left": null,
            "margin": null,
            "max_height": null,
            "max_width": null,
            "min_height": null,
            "min_width": null,
            "object_fit": null,
            "object_position": null,
            "order": null,
            "overflow": null,
            "overflow_x": null,
            "overflow_y": null,
            "padding": null,
            "right": null,
            "top": null,
            "visibility": null,
            "width": null
          }
        },
        "5fbc5b4f7b5a454c9061a617024e67a1": {
          "model_module": "@jupyter-widgets/controls",
          "model_module_version": "1.5.0",
          "model_name": "DescriptionStyleModel",
          "state": {
            "_model_module": "@jupyter-widgets/controls",
            "_model_module_version": "1.5.0",
            "_model_name": "DescriptionStyleModel",
            "_view_count": null,
            "_view_module": "@jupyter-widgets/base",
            "_view_module_version": "1.2.0",
            "_view_name": "StyleView",
            "description_width": ""
          }
        },
        "60bda788b9234885b004820d7e2b44d7": {
          "model_module": "@jupyter-widgets/controls",
          "model_module_version": "1.5.0",
          "model_name": "HTMLModel",
          "state": {
            "_dom_classes": [],
            "_model_module": "@jupyter-widgets/controls",
            "_model_module_version": "1.5.0",
            "_model_name": "HTMLModel",
            "_view_count": null,
            "_view_module": "@jupyter-widgets/controls",
            "_view_module_version": "1.5.0",
            "_view_name": "HTMLView",
            "description": "",
            "description_tooltip": null,
            "layout": "IPY_MODEL_5bb4a350f42c410eb0162847c6f3883b",
            "placeholder": "​",
            "style": "IPY_MODEL_489deab5d516454f8f0548fb92b9a18c",
            "value": "Map: 100%"
          }
        },
        "7006577638ad481d86000380fb08fc43": {
          "model_module": "@jupyter-widgets/controls",
          "model_module_version": "1.5.0",
          "model_name": "HBoxModel",
          "state": {
            "_dom_classes": [],
            "_model_module": "@jupyter-widgets/controls",
            "_model_module_version": "1.5.0",
            "_model_name": "HBoxModel",
            "_view_count": null,
            "_view_module": "@jupyter-widgets/controls",
            "_view_module_version": "1.5.0",
            "_view_name": "HBoxView",
            "box_style": "",
            "children": [
              "IPY_MODEL_1e5d2bfdb76444dbb02221ea1d4f9b64",
              "IPY_MODEL_e1325217cd784adb84f9fe2f7b98b163",
              "IPY_MODEL_585f9d93be224969abc62cd1fa97adba"
            ],
            "layout": "IPY_MODEL_33a350a75f674b7fa2c747873f747948"
          }
        },
        "76baa381dc9f466facf63b4b4f60275d": {
          "model_module": "@jupyter-widgets/base",
          "model_module_version": "1.2.0",
          "model_name": "LayoutModel",
          "state": {
            "_model_module": "@jupyter-widgets/base",
            "_model_module_version": "1.2.0",
            "_model_name": "LayoutModel",
            "_view_count": null,
            "_view_module": "@jupyter-widgets/base",
            "_view_module_version": "1.2.0",
            "_view_name": "LayoutView",
            "align_content": null,
            "align_items": null,
            "align_self": null,
            "border": null,
            "bottom": null,
            "display": null,
            "flex": null,
            "flex_flow": null,
            "grid_area": null,
            "grid_auto_columns": null,
            "grid_auto_flow": null,
            "grid_auto_rows": null,
            "grid_column": null,
            "grid_gap": null,
            "grid_row": null,
            "grid_template_areas": null,
            "grid_template_columns": null,
            "grid_template_rows": null,
            "height": null,
            "justify_content": null,
            "justify_items": null,
            "left": null,
            "margin": null,
            "max_height": null,
            "max_width": null,
            "min_height": null,
            "min_width": null,
            "object_fit": null,
            "object_position": null,
            "order": null,
            "overflow": null,
            "overflow_x": null,
            "overflow_y": null,
            "padding": null,
            "right": null,
            "top": null,
            "visibility": null,
            "width": null
          }
        },
        "894499845f2a414ba6c8dc811e319914": {
          "model_module": "@jupyter-widgets/controls",
          "model_module_version": "1.5.0",
          "model_name": "DescriptionStyleModel",
          "state": {
            "_model_module": "@jupyter-widgets/controls",
            "_model_module_version": "1.5.0",
            "_model_name": "DescriptionStyleModel",
            "_view_count": null,
            "_view_module": "@jupyter-widgets/base",
            "_view_module_version": "1.2.0",
            "_view_name": "StyleView",
            "description_width": ""
          }
        },
        "8f82451a97e14cfcbd37b93e452fb9bc": {
          "model_module": "@jupyter-widgets/controls",
          "model_module_version": "1.5.0",
          "model_name": "ProgressStyleModel",
          "state": {
            "_model_module": "@jupyter-widgets/controls",
            "_model_module_version": "1.5.0",
            "_model_name": "ProgressStyleModel",
            "_view_count": null,
            "_view_module": "@jupyter-widgets/base",
            "_view_module_version": "1.2.0",
            "_view_name": "StyleView",
            "bar_color": null,
            "description_width": ""
          }
        },
        "9c13bc2f55054bc0a0d114511143b167": {
          "model_module": "@jupyter-widgets/base",
          "model_module_version": "1.2.0",
          "model_name": "LayoutModel",
          "state": {
            "_model_module": "@jupyter-widgets/base",
            "_model_module_version": "1.2.0",
            "_model_name": "LayoutModel",
            "_view_count": null,
            "_view_module": "@jupyter-widgets/base",
            "_view_module_version": "1.2.0",
            "_view_name": "LayoutView",
            "align_content": null,
            "align_items": null,
            "align_self": null,
            "border": null,
            "bottom": null,
            "display": null,
            "flex": null,
            "flex_flow": null,
            "grid_area": null,
            "grid_auto_columns": null,
            "grid_auto_flow": null,
            "grid_auto_rows": null,
            "grid_column": null,
            "grid_gap": null,
            "grid_row": null,
            "grid_template_areas": null,
            "grid_template_columns": null,
            "grid_template_rows": null,
            "height": null,
            "justify_content": null,
            "justify_items": null,
            "left": null,
            "margin": null,
            "max_height": null,
            "max_width": null,
            "min_height": null,
            "min_width": null,
            "object_fit": null,
            "object_position": null,
            "order": null,
            "overflow": null,
            "overflow_x": null,
            "overflow_y": null,
            "padding": null,
            "right": null,
            "top": null,
            "visibility": null,
            "width": null
          }
        },
        "ab05dc7adb8f4c39ae9f96a0ee640b02": {
          "model_module": "@jupyter-widgets/controls",
          "model_module_version": "1.5.0",
          "model_name": "ProgressStyleModel",
          "state": {
            "_model_module": "@jupyter-widgets/controls",
            "_model_module_version": "1.5.0",
            "_model_name": "ProgressStyleModel",
            "_view_count": null,
            "_view_module": "@jupyter-widgets/base",
            "_view_module_version": "1.2.0",
            "_view_name": "StyleView",
            "bar_color": null,
            "description_width": ""
          }
        },
        "b3b5c6444ebe47e68f206104f86809b4": {
          "model_module": "@jupyter-widgets/base",
          "model_module_version": "1.2.0",
          "model_name": "LayoutModel",
          "state": {
            "_model_module": "@jupyter-widgets/base",
            "_model_module_version": "1.2.0",
            "_model_name": "LayoutModel",
            "_view_count": null,
            "_view_module": "@jupyter-widgets/base",
            "_view_module_version": "1.2.0",
            "_view_name": "LayoutView",
            "align_content": null,
            "align_items": null,
            "align_self": null,
            "border": null,
            "bottom": null,
            "display": null,
            "flex": null,
            "flex_flow": null,
            "grid_area": null,
            "grid_auto_columns": null,
            "grid_auto_flow": null,
            "grid_auto_rows": null,
            "grid_column": null,
            "grid_gap": null,
            "grid_row": null,
            "grid_template_areas": null,
            "grid_template_columns": null,
            "grid_template_rows": null,
            "height": null,
            "justify_content": null,
            "justify_items": null,
            "left": null,
            "margin": null,
            "max_height": null,
            "max_width": null,
            "min_height": null,
            "min_width": null,
            "object_fit": null,
            "object_position": null,
            "order": null,
            "overflow": null,
            "overflow_x": null,
            "overflow_y": null,
            "padding": null,
            "right": null,
            "top": null,
            "visibility": null,
            "width": null
          }
        },
        "e1325217cd784adb84f9fe2f7b98b163": {
          "model_module": "@jupyter-widgets/controls",
          "model_module_version": "1.5.0",
          "model_name": "FloatProgressModel",
          "state": {
            "_dom_classes": [],
            "_model_module": "@jupyter-widgets/controls",
            "_model_module_version": "1.5.0",
            "_model_name": "FloatProgressModel",
            "_view_count": null,
            "_view_module": "@jupyter-widgets/controls",
            "_view_module_version": "1.5.0",
            "_view_name": "ProgressView",
            "bar_style": "success",
            "description": "",
            "description_tooltip": null,
            "layout": "IPY_MODEL_1e603d10a816466daffddaafdffd7227",
            "max": 20000,
            "min": 0,
            "orientation": "horizontal",
            "style": "IPY_MODEL_ab05dc7adb8f4c39ae9f96a0ee640b02",
            "value": 20000
          }
        },
        "e15d1f0d371e49d7ad4694c8d5f07afb": {
          "model_module": "@jupyter-widgets/base",
          "model_module_version": "1.2.0",
          "model_name": "LayoutModel",
          "state": {
            "_model_module": "@jupyter-widgets/base",
            "_model_module_version": "1.2.0",
            "_model_name": "LayoutModel",
            "_view_count": null,
            "_view_module": "@jupyter-widgets/base",
            "_view_module_version": "1.2.0",
            "_view_name": "LayoutView",
            "align_content": null,
            "align_items": null,
            "align_self": null,
            "border": null,
            "bottom": null,
            "display": null,
            "flex": null,
            "flex_flow": null,
            "grid_area": null,
            "grid_auto_columns": null,
            "grid_auto_flow": null,
            "grid_auto_rows": null,
            "grid_column": null,
            "grid_gap": null,
            "grid_row": null,
            "grid_template_areas": null,
            "grid_template_columns": null,
            "grid_template_rows": null,
            "height": null,
            "justify_content": null,
            "justify_items": null,
            "left": null,
            "margin": null,
            "max_height": null,
            "max_width": null,
            "min_height": null,
            "min_width": null,
            "object_fit": null,
            "object_position": null,
            "order": null,
            "overflow": null,
            "overflow_x": null,
            "overflow_y": null,
            "padding": null,
            "right": null,
            "top": null,
            "visibility": null,
            "width": null
          }
        }
      }
    }
  },
  "nbformat": 4,
  "nbformat_minor": 5
}
